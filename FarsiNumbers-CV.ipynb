{
  "nbformat": 4,
  "nbformat_minor": 0,
  "metadata": {
    "colab": {
      "name": "HW12_CV.ipynb",
      "provenance": [],
      "include_colab_link": true
    },
    "kernelspec": {
      "name": "python3",
      "display_name": "Python 3"
    },
    "accelerator": "GPU"
  },
  "cells": [
    {
      "cell_type": "markdown",
      "metadata": {
        "id": "view-in-github",
        "colab_type": "text"
      },
      "source": [
        "<a href=\"https://colab.research.google.com/github/fatemetkl/Persian-Handwritten-Image-Recognition/blob/master/FarsiNumbers-CV.ipynb\" target=\"_parent\"><img src=\"https://colab.research.google.com/assets/colab-badge.svg\" alt=\"Open In Colab\"/></a>"
      ]
    },
    {
      "cell_type": "code",
      "metadata": {
        "id": "1YiDZHqc5Qta",
        "colab_type": "code",
        "outputId": "7ed8d0be-d933-47fe-a32a-2910e6573c5d",
        "colab": {
          "base_uri": "https://localhost:8080/",
          "height": 124
        }
      },
      "source": [
        "from google.colab import drive\n",
        "drive.mount('/content/gdrive')"
      ],
      "execution_count": 0,
      "outputs": [
        {
          "output_type": "stream",
          "text": [
            "Go to this URL in a browser: https://accounts.google.com/o/oauth2/auth?client_id=947318989803-6bn6qk8qdgf4n4g3pfee6491hc0brc4i.apps.googleusercontent.com&redirect_uri=urn%3aietf%3awg%3aoauth%3a2.0%3aoob&response_type=code&scope=email%20https%3a%2f%2fwww.googleapis.com%2fauth%2fdocs.test%20https%3a%2f%2fwww.googleapis.com%2fauth%2fdrive%20https%3a%2f%2fwww.googleapis.com%2fauth%2fdrive.photos.readonly%20https%3a%2f%2fwww.googleapis.com%2fauth%2fpeopleapi.readonly\n",
            "\n",
            "Enter your authorization code:\n",
            "··········\n",
            "Mounted at /content/gdrive\n"
          ],
          "name": "stdout"
        }
      ]
    },
    {
      "cell_type": "code",
      "metadata": {
        "id": "lbFJHkBB7D2f",
        "colab_type": "code",
        "outputId": "95ec3c7c-7e25-41a8-8760-5a08bda3d8e1",
        "colab": {
          "base_uri": "https://localhost:8080/",
          "height": 87
        }
      },
      "source": [
        "! git clone https://github.com/amir-saniyan/HodaDatasetReader.git"
      ],
      "execution_count": 0,
      "outputs": [
        {
          "output_type": "stream",
          "text": [
            "Cloning into 'HodaDatasetReader'...\n",
            "remote: Enumerating objects: 24, done.\u001b[K\n",
            "remote: Total 24 (delta 0), reused 0 (delta 0), pack-reused 24\u001b[K\n",
            "Unpacking objects: 100% (24/24), done.\n"
          ],
          "name": "stdout"
        }
      ]
    },
    {
      "cell_type": "code",
      "metadata": {
        "id": "BbZ-9uXy9hWs",
        "colab_type": "code",
        "colab": {}
      },
      "source": [
        "# *-* coding: utf-8 *-*\n",
        "\n",
        "# Hoda Dataset Reader\n",
        "# Python code for reading Hoda farsi digit dataset.\n",
        "\n",
        "# Hoda Farsi Digit Dataset:\n",
        "# http://farsiocr.ir/\n",
        "# http://farsiocr.ir/مجموعه-داده/مجموعه-ارقام-دستنویس-هدی\n",
        "# http://dadegan.ir/catalog/hoda\n",
        "\n",
        "# Repository:\n",
        "# https://github.com/amir-saniyan/HodaDatasetReader\n",
        "\n",
        "import struct\n",
        "import numpy as np\n",
        "import cv2\n",
        "\n",
        "\n",
        "def __convert_to_one_hot(vector, num_classes):\n",
        "    result = np.zeros(shape=[len(vector), num_classes])\n",
        "    result[np.arange(len(vector)), vector] = 1\n",
        "    return result\n",
        "\n",
        "\n",
        "def __resize_image(src_image, dst_image_height, dst_image_width):\n",
        "    src_image_height = src_image.shape[0]\n",
        "    src_image_width = src_image.shape[1]\n",
        "\n",
        "    if src_image_height > dst_image_height or src_image_width > dst_image_width:\n",
        "        height_scale = dst_image_height / src_image_height\n",
        "        width_scale = dst_image_width / src_image_width\n",
        "        scale = min(height_scale, width_scale)\n",
        "        img = cv2.resize(src=src_image, dsize=(0, 0), fx=scale, fy=scale, interpolation=cv2.INTER_CUBIC)\n",
        "    else:\n",
        "        img = src_image\n",
        "\n",
        "    img_height = img.shape[0]\n",
        "    img_width = img.shape[1]\n",
        "\n",
        "    dst_image = np.zeros(shape=[dst_image_height, dst_image_width], dtype=np.uint8)\n",
        "\n",
        "    y_offset = (dst_image_height - img_height) // 2\n",
        "    x_offset = (dst_image_width - img_width) // 2\n",
        "\n",
        "    dst_image[y_offset:y_offset+img_height, x_offset:x_offset+img_width] = img\n",
        "\n",
        "    return dst_image\n",
        "\n",
        "\n",
        "def read_hoda_cdb(file_name):\n",
        "    with open(file_name, 'rb') as binary_file:\n",
        "\n",
        "        data = binary_file.read()\n",
        "\n",
        "        offset = 0\n",
        "\n",
        "        # read private header\n",
        "\n",
        "        yy = struct.unpack_from('H', data, offset)[0]\n",
        "        offset += 2\n",
        "\n",
        "        m = struct.unpack_from('B', data, offset)[0]\n",
        "        offset += 1\n",
        "\n",
        "        d = struct.unpack_from('B', data, offset)[0]\n",
        "        offset += 1\n",
        "\n",
        "        H = struct.unpack_from('B', data, offset)[0]\n",
        "        offset += 1\n",
        "\n",
        "        W = struct.unpack_from('B', data, offset)[0]\n",
        "        offset += 1\n",
        "\n",
        "        TotalRec = struct.unpack_from('I', data, offset)[0]\n",
        "        offset += 4\n",
        "\n",
        "        LetterCount = struct.unpack_from('128I', data, offset)\n",
        "        offset += 128 * 4\n",
        "\n",
        "        imgType = struct.unpack_from('B', data, offset)[0]  # 0: binary, 1: gray\n",
        "        offset += 1\n",
        "\n",
        "        Comments = struct.unpack_from('256c', data, offset)\n",
        "        offset += 256 * 1\n",
        "\n",
        "        Reserved = struct.unpack_from('245c', data, offset)\n",
        "        offset += 245 * 1\n",
        "\n",
        "        if (W > 0) and (H > 0):\n",
        "            normal = True\n",
        "        else:\n",
        "            normal = False\n",
        "\n",
        "        images = []\n",
        "        labels = []\n",
        "\n",
        "        for i in range(TotalRec):\n",
        "\n",
        "            StartByte = struct.unpack_from('B', data, offset)[0]  # must be 0xff\n",
        "            offset += 1\n",
        "\n",
        "            label = struct.unpack_from('B', data, offset)[0]\n",
        "            offset += 1\n",
        "\n",
        "            if not normal:\n",
        "                W = struct.unpack_from('B', data, offset)[0]\n",
        "                offset += 1\n",
        "\n",
        "                H = struct.unpack_from('B', data, offset)[0]\n",
        "                offset += 1\n",
        "\n",
        "            ByteCount = struct.unpack_from('H', data, offset)[0]\n",
        "            offset += 2\n",
        "\n",
        "            image = np.zeros(shape=[H, W], dtype=np.uint8)\n",
        "\n",
        "            if imgType == 0:\n",
        "                # Binary\n",
        "                for y in range(H):\n",
        "                    bWhite = True\n",
        "                    counter = 0\n",
        "                    while counter < W:\n",
        "                        WBcount = struct.unpack_from('B', data, offset)[0]\n",
        "                        offset += 1\n",
        "                        # x = 0\n",
        "                        # while x < WBcount:\n",
        "                        #     if bWhite:\n",
        "                        #         image[y, x + counter] = 0  # Background\n",
        "                        #     else:\n",
        "                        #         image[y, x + counter] = 255  # ForeGround\n",
        "                        #     x += 1\n",
        "                        if bWhite:\n",
        "                            image[y, counter:counter + WBcount] = 0  # Background\n",
        "                        else:\n",
        "                            image[y, counter:counter + WBcount] = 255  # ForeGround\n",
        "                        bWhite = not bWhite  # black white black white ...\n",
        "                        counter += WBcount\n",
        "            else:\n",
        "                # GrayScale mode\n",
        "                data = struct.unpack_from('{}B'.format(W * H), data, offset)\n",
        "                offset += W * H\n",
        "                image = np.asarray(data, dtype=np.uint8).reshape([W, H]).T\n",
        "\n",
        "            images.append(image)\n",
        "            labels.append(label)\n",
        "\n",
        "        return images, labels\n",
        "\n",
        "\n",
        "def read_hoda_dataset(dataset_path, images_height=32, images_width=32, one_hot=False, reshape=True):\n",
        "    images, labels = read_hoda_cdb(dataset_path)\n",
        "    assert len(images) == len(labels)\n",
        "\n",
        "    X = np.zeros(shape=[len(images), images_height, images_width], dtype=np.float32)\n",
        "    Y = np.zeros(shape=[len(labels)], dtype=np.int)\n",
        "\n",
        "    for i in range(len(images)):\n",
        "        image = images[i]\n",
        "        # Image resizing.\n",
        "        image = __resize_image(src_image=image, dst_image_height=images_height, dst_image_width=images_width)\n",
        "        # Image normalization.\n",
        "        image = image / 255\n",
        "        # Image binarization.\n",
        "        image = np.where(image >= 0.5, 1, 0)\n",
        "        # Image.\n",
        "        X[i] = image\n",
        "        # Label.\n",
        "        Y[i] = labels[i]\n",
        "\n",
        "    if one_hot:\n",
        "        Y = __convert_to_one_hot(Y, 10).astype(dtype=np.float32)\n",
        "    else:\n",
        "        Y = Y.astype(dtype=np.float32)\n",
        "\n",
        "    if reshape:\n",
        "        X = X.reshape(-1, images_height * images_width)\n",
        "    else:\n",
        "        X = X.reshape(-1, images_height, images_width, 1)\n",
        "\n",
        "    return X, Y\n"
      ],
      "execution_count": 0,
      "outputs": []
    },
    {
      "cell_type": "code",
      "metadata": {
        "id": "V3bR9oyF--0j",
        "colab_type": "code",
        "outputId": "40788b85-31ba-4127-a389-4e3f2db33dd2",
        "colab": {
          "base_uri": "https://localhost:8080/",
          "height": 35
        }
      },
      "source": [
        "!cd HodaDatasetReader\n",
        "!ls"
      ],
      "execution_count": 0,
      "outputs": [
        {
          "output_type": "stream",
          "text": [
            "gdrive\tHodaDatasetReader  sample_data\n"
          ],
          "name": "stdout"
        }
      ]
    },
    {
      "cell_type": "code",
      "metadata": {
        "id": "vzEXO4kn91CH",
        "colab_type": "code",
        "outputId": "f3feaf78-b283-4db3-ecf8-ad7b39bef8b9",
        "colab": {
          "base_uri": "https://localhost:8080/",
          "height": 35
        }
      },
      "source": [
        "print('Reading train dataset (Train 60000.cdb)...')\n",
        "X_train, Y_train = read_hoda_dataset(dataset_path='./HodaDatasetReader/DigitDB/Train 60000.cdb',\n",
        "                                images_height=32,\n",
        "                                images_width=32,\n",
        "                                one_hot=False,\n",
        "                                reshape=False)"
      ],
      "execution_count": 0,
      "outputs": [
        {
          "output_type": "stream",
          "text": [
            "Reading train dataset (Train 60000.cdb)...\n"
          ],
          "name": "stdout"
        }
      ]
    },
    {
      "cell_type": "code",
      "metadata": {
        "id": "sVgt0jwK_uxH",
        "colab_type": "code",
        "outputId": "23cadd02-237c-4892-b368-0d0ebe37aabc",
        "colab": {
          "base_uri": "https://localhost:8080/",
          "height": 116
        }
      },
      "source": [
        "from keras.utils.np_utils import to_categorical\n",
        "Y_train = to_categorical(Y_train)\n",
        "print (X_train[0].shape)"
      ],
      "execution_count": 0,
      "outputs": [
        {
          "output_type": "stream",
          "text": [
            "Using TensorFlow backend.\n"
          ],
          "name": "stderr"
        },
        {
          "output_type": "display_data",
          "data": {
            "text/html": [
              "<p style=\"color: red;\">\n",
              "The default version of TensorFlow in Colab will soon switch to TensorFlow 2.x.<br>\n",
              "We recommend you <a href=\"https://www.tensorflow.org/guide/migrate\" target=\"_blank\">upgrade</a> now \n",
              "or ensure your notebook will continue to use TensorFlow 1.x via the <code>%tensorflow_version 1.x</code> magic:\n",
              "<a href=\"https://colab.research.google.com/notebooks/tensorflow_version.ipynb\" target=\"_blank\">more info</a>.</p>\n"
            ],
            "text/plain": [
              "<IPython.core.display.HTML object>"
            ]
          },
          "metadata": {
            "tags": []
          }
        },
        {
          "output_type": "stream",
          "text": [
            "(32, 32, 1)\n"
          ],
          "name": "stdout"
        }
      ]
    },
    {
      "cell_type": "code",
      "metadata": {
        "id": "DEtoFtfx_-Ky",
        "colab_type": "code",
        "colab": {}
      },
      "source": [
        "import keras \n",
        "from keras.models import Sequential\n",
        "from keras.layers import Conv2D\n",
        "from keras.layers import MaxPooling2D\n",
        "from keras.layers import Flatten\n",
        "from keras.layers import Dense"
      ],
      "execution_count": 0,
      "outputs": []
    },
    {
      "cell_type": "code",
      "metadata": {
        "id": "DGqNBZ1TC1QP",
        "colab_type": "code",
        "outputId": "2b3f58d9-f670-4cf5-ad4d-b2d265fa6ca0",
        "colab": {
          "base_uri": "https://localhost:8080/",
          "height": 176
        }
      },
      "source": [
        "model = Sequential()\n",
        "#Layer 1\n",
        "#Conv Layer 1\n",
        "model.add(Conv2D(filters = 6, \n",
        "                 kernel_size = 5, \n",
        "                 strides = 1, \n",
        "                 activation = 'relu', \n",
        "                 input_shape = (32,32,1)))\n",
        "#Pooling layer 1\n",
        "model.add(MaxPooling2D(pool_size = 2, strides = 2))\n",
        "#Layer 2\n",
        "#Conv Layer 2\n",
        "model.add(Conv2D(filters = 16, \n",
        "                 kernel_size = 5,\n",
        "                 strides = 1,\n",
        "                 activation = 'relu',\n",
        "                 input_shape = (14,14,6)))\n",
        "#Pooling Layer 2\n",
        "model.add(MaxPooling2D(pool_size = 2, strides = 2))"
      ],
      "execution_count": 0,
      "outputs": [
        {
          "output_type": "stream",
          "text": [
            "WARNING:tensorflow:From /usr/local/lib/python3.6/dist-packages/keras/backend/tensorflow_backend.py:66: The name tf.get_default_graph is deprecated. Please use tf.compat.v1.get_default_graph instead.\n",
            "\n",
            "WARNING:tensorflow:From /usr/local/lib/python3.6/dist-packages/keras/backend/tensorflow_backend.py:541: The name tf.placeholder is deprecated. Please use tf.compat.v1.placeholder instead.\n",
            "\n",
            "WARNING:tensorflow:From /usr/local/lib/python3.6/dist-packages/keras/backend/tensorflow_backend.py:4432: The name tf.random_uniform is deprecated. Please use tf.random.uniform instead.\n",
            "\n",
            "WARNING:tensorflow:From /usr/local/lib/python3.6/dist-packages/keras/backend/tensorflow_backend.py:4267: The name tf.nn.max_pool is deprecated. Please use tf.nn.max_pool2d instead.\n",
            "\n"
          ],
          "name": "stdout"
        }
      ]
    },
    {
      "cell_type": "code",
      "metadata": {
        "id": "0An43wYjDIL7",
        "colab_type": "code",
        "colab": {}
      },
      "source": [
        "#Flatten\n",
        "model.add(Flatten())\n",
        "#Layer 3\n",
        "#Fully connected layer 1\n",
        "model.add(Dense(units = 120, activation = 'relu'))\n",
        "#Layer 4\n",
        "#Fully connected layer 2\n",
        "model.add(Dense(units = 84, activation = 'relu'))\n",
        "#Layer 5\n",
        "#Output Layer\n",
        "model.add(Dense(units = 10, activation = 'softmax'))"
      ],
      "execution_count": 0,
      "outputs": []
    },
    {
      "cell_type": "code",
      "metadata": {
        "id": "I2gVmCOoDNoO",
        "colab_type": "code",
        "outputId": "3c64204d-3dec-46a4-efe0-bb77a301e785",
        "colab": {
          "base_uri": "https://localhost:8080/",
          "height": 1000
        }
      },
      "source": [
        "model.compile(optimizer = 'adam', loss = 'categorical_crossentropy', metrics = ['accuracy'])\n",
        "\n",
        "model.fit(X_train ,Y_train, steps_per_epoch = 10, epochs = 42)"
      ],
      "execution_count": 0,
      "outputs": [
        {
          "output_type": "stream",
          "text": [
            "WARNING:tensorflow:From /usr/local/lib/python3.6/dist-packages/keras/optimizers.py:793: The name tf.train.Optimizer is deprecated. Please use tf.compat.v1.train.Optimizer instead.\n",
            "\n",
            "WARNING:tensorflow:From /usr/local/lib/python3.6/dist-packages/keras/backend/tensorflow_backend.py:3576: The name tf.log is deprecated. Please use tf.math.log instead.\n",
            "\n",
            "WARNING:tensorflow:From /usr/local/lib/python3.6/dist-packages/tensorflow_core/python/ops/math_grad.py:1424: where (from tensorflow.python.ops.array_ops) is deprecated and will be removed in a future version.\n",
            "Instructions for updating:\n",
            "Use tf.where in 2.0, which has the same broadcast rule as np.where\n",
            "WARNING:tensorflow:From /usr/local/lib/python3.6/dist-packages/keras/backend/tensorflow_backend.py:1033: The name tf.assign_add is deprecated. Please use tf.compat.v1.assign_add instead.\n",
            "\n",
            "WARNING:tensorflow:From /usr/local/lib/python3.6/dist-packages/keras/backend/tensorflow_backend.py:1020: The name tf.assign is deprecated. Please use tf.compat.v1.assign instead.\n",
            "\n",
            "WARNING:tensorflow:From /usr/local/lib/python3.6/dist-packages/keras/backend/tensorflow_backend.py:3005: The name tf.Session is deprecated. Please use tf.compat.v1.Session instead.\n",
            "\n",
            "Epoch 1/42\n",
            "WARNING:tensorflow:From /usr/local/lib/python3.6/dist-packages/keras/backend/tensorflow_backend.py:190: The name tf.get_default_session is deprecated. Please use tf.compat.v1.get_default_session instead.\n",
            "\n",
            "WARNING:tensorflow:From /usr/local/lib/python3.6/dist-packages/keras/backend/tensorflow_backend.py:197: The name tf.ConfigProto is deprecated. Please use tf.compat.v1.ConfigProto instead.\n",
            "\n",
            "WARNING:tensorflow:From /usr/local/lib/python3.6/dist-packages/keras/backend/tensorflow_backend.py:207: The name tf.global_variables is deprecated. Please use tf.compat.v1.global_variables instead.\n",
            "\n",
            "WARNING:tensorflow:From /usr/local/lib/python3.6/dist-packages/keras/backend/tensorflow_backend.py:216: The name tf.is_variable_initialized is deprecated. Please use tf.compat.v1.is_variable_initialized instead.\n",
            "\n",
            "WARNING:tensorflow:From /usr/local/lib/python3.6/dist-packages/keras/backend/tensorflow_backend.py:223: The name tf.variables_initializer is deprecated. Please use tf.compat.v1.variables_initializer instead.\n",
            "\n",
            "10/10 [==============================] - 18s 2s/step - loss: 2.0081 - acc: 0.5009\n",
            "Epoch 2/42\n",
            "10/10 [==============================] - 2s 227ms/step - loss: 0.9091 - acc: 0.8460\n",
            "Epoch 3/42\n",
            "10/10 [==============================] - 2s 227ms/step - loss: 0.3141 - acc: 0.9026\n",
            "Epoch 4/42\n",
            "10/10 [==============================] - 2s 227ms/step - loss: 0.2034 - acc: 0.9383\n",
            "Epoch 5/42\n",
            "10/10 [==============================] - 2s 228ms/step - loss: 0.1582 - acc: 0.9534\n",
            "Epoch 6/42\n",
            "10/10 [==============================] - 2s 226ms/step - loss: 0.1302 - acc: 0.9635\n",
            "Epoch 7/42\n",
            "10/10 [==============================] - 2s 227ms/step - loss: 0.1108 - acc: 0.9691\n",
            "Epoch 8/42\n",
            "10/10 [==============================] - 2s 231ms/step - loss: 0.0970 - acc: 0.9723\n",
            "Epoch 9/42\n",
            "10/10 [==============================] - 2s 229ms/step - loss: 0.0860 - acc: 0.9754\n",
            "Epoch 10/42\n",
            "10/10 [==============================] - 2s 227ms/step - loss: 0.0768 - acc: 0.9777\n",
            "Epoch 11/42\n",
            "10/10 [==============================] - 2s 227ms/step - loss: 0.0689 - acc: 0.9800\n",
            "Epoch 12/42\n",
            "10/10 [==============================] - 2s 228ms/step - loss: 0.0622 - acc: 0.9819\n",
            "Epoch 13/42\n",
            "10/10 [==============================] - 2s 226ms/step - loss: 0.0588 - acc: 0.9824\n",
            "Epoch 14/42\n",
            "10/10 [==============================] - 2s 227ms/step - loss: 0.0531 - acc: 0.9840\n",
            "Epoch 15/42\n",
            "10/10 [==============================] - 2s 227ms/step - loss: 0.0485 - acc: 0.9855\n",
            "Epoch 16/42\n",
            "10/10 [==============================] - 2s 228ms/step - loss: 0.0449 - acc: 0.9867\n",
            "Epoch 17/42\n",
            "10/10 [==============================] - 2s 227ms/step - loss: 0.0418 - acc: 0.9877\n",
            "Epoch 18/42\n",
            "10/10 [==============================] - 2s 228ms/step - loss: 0.0390 - acc: 0.9885\n",
            "Epoch 19/42\n",
            "10/10 [==============================] - 2s 227ms/step - loss: 0.0364 - acc: 0.9893\n",
            "Epoch 20/42\n",
            "10/10 [==============================] - 2s 227ms/step - loss: 0.0341 - acc: 0.9900\n",
            "Epoch 21/42\n",
            "10/10 [==============================] - 2s 228ms/step - loss: 0.0319 - acc: 0.9907\n",
            "Epoch 22/42\n",
            "10/10 [==============================] - 2s 227ms/step - loss: 0.0300 - acc: 0.9914\n",
            "Epoch 23/42\n",
            "10/10 [==============================] - 2s 227ms/step - loss: 0.0282 - acc: 0.9919\n",
            "Epoch 24/42\n",
            "10/10 [==============================] - 2s 227ms/step - loss: 0.0266 - acc: 0.9923\n",
            "Epoch 25/42\n",
            "10/10 [==============================] - 2s 227ms/step - loss: 0.0250 - acc: 0.9926\n",
            "Epoch 26/42\n",
            "10/10 [==============================] - 2s 228ms/step - loss: 0.0236 - acc: 0.9930\n",
            "Epoch 27/42\n",
            "10/10 [==============================] - 2s 227ms/step - loss: 0.0223 - acc: 0.9933\n",
            "Epoch 28/42\n",
            "10/10 [==============================] - 2s 228ms/step - loss: 0.0211 - acc: 0.9937\n",
            "Epoch 29/42\n",
            "10/10 [==============================] - 2s 227ms/step - loss: 0.0200 - acc: 0.9940\n",
            "Epoch 30/42\n",
            "10/10 [==============================] - 2s 228ms/step - loss: 0.0189 - acc: 0.9943\n",
            "Epoch 31/42\n",
            "10/10 [==============================] - 2s 227ms/step - loss: 0.0180 - acc: 0.9945\n",
            "Epoch 32/42\n",
            "10/10 [==============================] - 2s 228ms/step - loss: 0.1529 - acc: 0.9619\n",
            "Epoch 33/42\n",
            "10/10 [==============================] - 2s 228ms/step - loss: 0.1074 - acc: 0.9685\n",
            "Epoch 34/42\n",
            "10/10 [==============================] - 2s 229ms/step - loss: 0.0474 - acc: 0.9856\n",
            "Epoch 35/42\n",
            "10/10 [==============================] - 2s 227ms/step - loss: 0.0346 - acc: 0.9889\n",
            "Epoch 36/42\n",
            "10/10 [==============================] - 2s 226ms/step - loss: 0.0290 - acc: 0.9909\n",
            "Epoch 37/42\n",
            "10/10 [==============================] - 2s 227ms/step - loss: 0.0257 - acc: 0.9920\n",
            "Epoch 38/42\n",
            "10/10 [==============================] - 2s 226ms/step - loss: 0.0236 - acc: 0.9928\n",
            "Epoch 39/42\n",
            "10/10 [==============================] - 2s 226ms/step - loss: 0.0221 - acc: 0.9933\n",
            "Epoch 40/42\n",
            "10/10 [==============================] - 2s 227ms/step - loss: 0.0209 - acc: 0.9937\n",
            "Epoch 41/42\n",
            "10/10 [==============================] - 2s 228ms/step - loss: 0.0199 - acc: 0.9940\n",
            "Epoch 42/42\n",
            "10/10 [==============================] - 2s 227ms/step - loss: 0.0191 - acc: 0.9944\n"
          ],
          "name": "stdout"
        },
        {
          "output_type": "execute_result",
          "data": {
            "text/plain": [
              "<keras.callbacks.History at 0x7ff802a1db70>"
            ]
          },
          "metadata": {
            "tags": []
          },
          "execution_count": 10
        }
      ]
    },
    {
      "cell_type": "code",
      "metadata": {
        "id": "wVOj1V1NEynC",
        "colab_type": "code",
        "outputId": "81bcbdf4-ac2a-40f3-f3a5-36d2efb6db2b",
        "colab": {
          "base_uri": "https://localhost:8080/",
          "height": 35
        }
      },
      "source": [
        "print('Reading test dataset (Test 20000.cdb)...')\n",
        "X_test, Y_test = read_hoda_dataset(dataset_path='./HodaDatasetReader/DigitDB/Test 20000.cdb',\n",
        "                              images_height=32,\n",
        "                              images_width=32,\n",
        "                              one_hot=False,\n",
        "                              reshape=False)"
      ],
      "execution_count": 0,
      "outputs": [
        {
          "output_type": "stream",
          "text": [
            "Reading test dataset (Test 20000.cdb)...\n"
          ],
          "name": "stdout"
        }
      ]
    },
    {
      "cell_type": "code",
      "metadata": {
        "id": "0qGANMNKFlKG",
        "colab_type": "code",
        "outputId": "4d3c2c1d-212b-464d-94fa-9a87714b7a26",
        "colab": {
          "base_uri": "https://localhost:8080/",
          "height": 52
        }
      },
      "source": [
        "y_pred = model.predict(X_test)\n",
        "\n",
        "#Converting one hot vectors to labels\n",
        "labels = np.argmax(y_pred, axis = 1)\n",
        "acc=0;\n",
        "\n",
        "#Accuracy on test\n",
        "x=[]\n",
        "false_values=[]\n",
        "for i in range(len(labels)):\n",
        "  if labels[i]==Y_test[i]:\n",
        "    acc+=1\n",
        "  else:\n",
        "    x=y_pred[i]\n",
        "    prob_of_true=x[int(Y_test[i])]\n",
        "    false_values.append((i,prob_of_true))\n",
        "   \n",
        "from operator import itemgetter\n",
        "very_bad= sorted(false_values,key=itemgetter(1))\n",
        "very_bad=very_bad[0:9]\n",
        "\n",
        "print(\"ACCURACY on test =\")\n",
        "print(acc/len(labels))\n",
        "\n",
        "out_img=[]\n",
        "for pic in very_bad:\n",
        "  out_img.append(X_test[int(pic[0])])"
      ],
      "execution_count": 0,
      "outputs": [
        {
          "output_type": "stream",
          "text": [
            "(528, 0.0050894953)\n",
            "0.98265\n"
          ],
          "name": "stdout"
        }
      ]
    },
    {
      "cell_type": "code",
      "metadata": {
        "id": "KghBb2uTNT75",
        "colab_type": "code",
        "outputId": "962539fd-69ea-4a1c-b0c4-f482d0e838dd",
        "colab": {
          "base_uri": "https://localhost:8080/",
          "height": 1000
        }
      },
      "source": [
        "#Show 10 worst images\n",
        "\n",
        "import matplotlib.pyplot as plt\n",
        "for image in out_img:\n",
        "  pixels = np.array(image, dtype='uint8')\n",
        "  # Reshape the array into 28 x 28 array (2-dimensional array)\n",
        "  pixels = pixels.reshape((32, 32))\n",
        "  plt.imshow(pixels, cmap='gray')\n",
        "  plt.show()"
      ],
      "execution_count": 0,
      "outputs": [
        {
          "output_type": "display_data",
          "data": {
            "image/png": "[encoded data removed]",
            "text/plain": [
              "<Figure size 432x288 with 1 Axes>"
            ]
          },
          "metadata": {
            "tags": []
          }
        },
        {
          "output_type": "display_data",
          "data": {
            "image/png": "[encoded data removed]",
            "text/plain": [
              "<Figure size 432x288 with 1 Axes>"
            ]
          },
          "metadata": {
            "tags": []
          }
        },
        {
          "output_type": "display_data",
          "data": {
            "image/png": "[encoded data removed]",
            "text/plain": [
              "<Figure size 432x288 with 1 Axes>"
            ]
          },
          "metadata": {
            "tags": []
          }
        },
        {
          "output_type": "display_data",
          "data": {
            "image/png": "[encoded data removed]",
            "text/plain": [
              "<Figure size 432x288 with 1 Axes>"
            ]
          },
          "metadata": {
            "tags": []
          }
        },
        {
          "output_type": "display_data",
          "data": {
            "image/png": "[encoded data removed]",
            "text/plain": [
              "<Figure size 432x288 with 1 Axes>"
            ]
          },
          "metadata": {
            "tags": []
          }
        },
        {
          "output_type": "display_data",
          "data": {
            "image/png": "[encoded data removed]",
            "text/plain": [
              "<Figure size 432x288 with 1 Axes>"
            ]
          },
          "metadata": {
            "tags": []
          }
        },
        {
          "output_type": "display_data",
          "data": {
            "image/png": "[encoded data removed]",
            "text/plain": [
              "<Figure size 432x288 with 1 Axes>"
            ]
          },
          "metadata": {
            "tags": []
          }
        },
        {
          "output_type": "display_data",
          "data": {
            "image/png": "[encoded data removed]",
            "text/plain": [
              "<Figure size 432x288 with 1 Axes>"
            ]
          },
          "metadata": {
            "tags": []
          }
        },
        {
          "output_type": "display_data",
          "data": {
            "image/png": "[encoded data removed]",
            "text/plain": [
              "<Figure size 432x288 with 1 Axes>"
            ]
          },
          "metadata": {
            "tags": []
          }
        }
      ]
    },
    {
      "cell_type": "code",
      "metadata": {
        "id": "uIaSe_cNlwR0",
        "colab_type": "code",
        "outputId": "bd895a9a-195c-401c-ba9f-0efe9edabea6",
        "colab": {
          "base_uri": "https://localhost:8080/",
          "height": 191
        }
      },
      "source": [
        "#confusion matrix\n",
        "        from sklearn.metrics import confusion_matrix\n",
        "        cm = confusion_matrix(Y_test, labels)\n",
        "\n",
        "        print(cm)"
      ],
      "execution_count": 0,
      "outputs": [
        {
          "output_type": "stream",
          "text": [
            "[[1990    0    0    0    0    7    1    2    0    0]\n",
            " [   0 1997    0    0    0    0    0    2    0    1]\n",
            " [   0   13 1945   27    8    0    2    1    0    4]\n",
            " [   2    0   67 1900   28    0    2    1    0    0]\n",
            " [   0    1   12   32 1950    0    1    1    0    3]\n",
            " [   4    1    0    0    4 1982    2    2    4    1]\n",
            " [   0    3    3    0    2    7 1962    1    1   21]\n",
            " [   0    3   15    1    3    0    3 1974    0    1]\n",
            " [   0    2    1    0    0    2    1    0 1989    5]\n",
            " [   2    9    0    0    2    2   16    0    5 1964]]\n"
          ],
          "name": "stdout"
        }
      ]
    }
  ]
}